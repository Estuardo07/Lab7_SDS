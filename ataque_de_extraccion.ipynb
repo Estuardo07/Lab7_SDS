{
 "cells": [
  {
   "attachments": {},
   "cell_type": "markdown",
   "metadata": {},
   "source": [
    "Laboratorio #7\n",
    "- Marco Ramírez\n",
    "- Estuardo Hernández\n",
    "\n",
    "Ataque de Extracción"
   ]
  },
  {
   "cell_type": "code",
   "execution_count": 2,
   "metadata": {},
   "outputs": [],
   "source": [
    "# Importamos las librerías a utilizar\n",
    "import tensorflow as tf\n",
    "from tensorflow.keras.layers import Conv2D, MaxPool2D, Dense, Flatten, Dropout, BatchNormalization, MaxPooling2D\n",
    "import numpy as np\n",
    "import matplotlib.pyplot as plt\n",
    "import matplotlib\n",
    "from art.estimators.classification import KerasClassifier #No soporta TF 2\n",
    "from art.attacks.evasion import FastGradientMethod\n",
    "from art.utils import load_dataset\n",
    "\n",
    "# Disabling eager execution from TF 2\n",
    "tf.compat.v1.disable_eager_execution()\n",
    "\n",
    "from tensorflow.keras.preprocessing.image import ImageDataGenerator\n",
    "from tensorflow.keras.models import Sequential\n",
    "from tensorflow.keras.optimizers import Adam\n",
    "import tensorflow.keras.backend as K"
   ]
  },
  {
   "cell_type": "code",
   "execution_count": 3,
   "metadata": {},
   "outputs": [
    {
     "name": "stdout",
     "output_type": "stream",
     "text": [
      "Found 939 images belonging to 25 classes.\n",
      "Found 939 images belonging to 25 classes.\n"
     ]
    }
   ],
   "source": [
    "# Utilizamos las 939 imágenes que separamos para el ataque\n",
    "# Dimensiones de cada imagen\n",
    "image_size=(80,80)\n",
    "# Tamaño del lote de datos por cada iteración\n",
    "batch_size = 32\n",
    "# Aplicar inversión horizontal a la imagen\n",
    "datagen_train=ImageDataGenerator(horizontal_flip=True)\n",
    "# Crear el generador de datos de entrenamiento con los parámetros definidos\n",
    "train_generator=datagen_train.flow_from_directory(\"./random_imgs/\",\n",
    "    target_size=image_size,\n",
    "    batch_size=batch_size,\n",
    "    class_mode='categorical',\n",
    "    color_mode =\"rgb\",\n",
    "    shuffle=True,\n",
    "    subset='training'\n",
    ") # Este subset permite obtener un subconjunto de los datos de entrenamiento, en este caso se obtiene el 70% de los datos para entrenamiento\n",
    "\n",
    "# Aplicar inversión horizontal a la imagen\n",
    "datagen_test=ImageDataGenerator(horizontal_flip=True)\n",
    "# Crear el generador de datos de pruebas con los parámetros definidos\n",
    "test_generator=datagen_test.flow_from_directory(\"./random_imgs/\",\n",
    "    target_size=image_size,\n",
    "    batch_size=batch_size,\n",
    "    class_mode='categorical',\n",
    "    color_mode =\"rgb\",\n",
    "    shuffle=True,\n",
    "    subset='training'\n",
    ") # Este subset permite obtener un subconjunto de los datos de entrenamiento, en este caso se obtiene el 30% de los datos para pruebas"
   ]
  },
  {
   "cell_type": "code",
   "execution_count": 4,
   "metadata": {},
   "outputs": [
    {
     "name": "stdout",
     "output_type": "stream",
     "text": [
      "WARNING:tensorflow:From c:\\Users\\xavih\\AppData\\Local\\Programs\\Python\\Python310\\lib\\site-packages\\keras\\layers\\normalization\\batch_normalization.py:581: _colocate_with (from tensorflow.python.framework.ops) is deprecated and will be removed in a future version.\n",
      "Instructions for updating:\n",
      "Colocations handled automatically by placer.\n"
     ]
    }
   ],
   "source": [
    "#Cargamos el modelo\n",
    "vulnerable_model = tf.keras.models.load_model(\"malware-class.h5\")"
   ]
  },
  {
   "cell_type": "code",
   "execution_count": 5,
   "metadata": {},
   "outputs": [],
   "source": [
    "# Utilizamos el KerasClassifier\n",
    "clasificador = KerasClassifier(\n",
    "    model=vulnerable_model,\n",
    "    clip_values=(0, 255))"
   ]
  },
  {
   "cell_type": "code",
   "execution_count": 6,
   "metadata": {},
   "outputs": [],
   "source": [
    "from art.attacks.extraction import CopycatCNN\n",
    "# Creating the \"neural net thief\" object\n",
    "# that will steal the original classifier\n",
    "copycat_cnn = CopycatCNN(\n",
    "    batch_size_fit=256,\n",
    "    batch_size_query=256,\n",
    "    nb_epochs=20,\n",
    "    nb_stolen=20000,\n",
    "    classifier=clasificador\n",
    "    )"
   ]
  },
  {
   "cell_type": "code",
   "execution_count": 7,
   "metadata": {},
   "outputs": [],
   "source": [
    "#Definimos un nuevo modelo\n",
    "def create_blank_model():\n",
    "    CNNmodel = Sequential()\n",
    "    CNNmodel.add(Conv2D(8, (3, 3), activation='relu', padding='same', input_shape=(80, 80, 3)))\n",
    "    CNNmodel.add(BatchNormalization())\n",
    "    CNNmodel.add(Conv2D(8, (3, 3), activation='relu',  padding='same'))\n",
    "    CNNmodel.add(BatchNormalization())\n",
    "    CNNmodel.add(MaxPooling2D((2, 2)))\n",
    "    # Más capas con distintos filtros\n",
    "    CNNmodel.add(Conv2D(16, (3, 3), activation='relu', padding='same'))\n",
    "    CNNmodel.add(BatchNormalization())\n",
    "    CNNmodel.add(Conv2D(16, (3, 3), activation='relu',  padding='same'))\n",
    "    CNNmodel.add(BatchNormalization())\n",
    "    CNNmodel.add(MaxPooling2D((2, 2)))\n",
    "    CNNmodel.add(Conv2D(32, (3, 3), activation='relu', padding='same'))\n",
    "    CNNmodel.add(BatchNormalization())\n",
    "    CNNmodel.add(Conv2D(32, (3, 3), activation='relu', padding='same'))\n",
    "    CNNmodel.add(BatchNormalization())\n",
    "    CNNmodel.add(MaxPooling2D((2, 2)))\n",
    "    CNNmodel.add(Conv2D(64, (3, 3), activation='relu', padding='same'))\n",
    "    CNNmodel.add(BatchNormalization())\n",
    "    CNNmodel.add(Conv2D(64, (3, 3), activation='relu',padding='same'))\n",
    "    CNNmodel.add(BatchNormalization())\n",
    "    CNNmodel.add(MaxPooling2D((2, 2)))\n",
    "    # Agregar capa para reducir el overfitting durante el entrenamiento\n",
    "    CNNmodel.add(Dropout(0.15))\n",
    "    # Más capas\n",
    "    CNNmodel.add(Conv2D(96, (3, 3), activation='relu', padding='same'))\n",
    "    CNNmodel.add(BatchNormalization())\n",
    "    CNNmodel.add(Conv2D(128, (3, 3), activation='relu',padding='same'))\n",
    "    CNNmodel.add(BatchNormalization())\n",
    "    CNNmodel.add(MaxPooling2D((2, 2)))\n",
    "    CNNmodel.add(Dropout(0.15))\n",
    "    CNNmodel.add(Conv2D(128, (3, 3), activation='relu', padding='same'))\n",
    "    CNNmodel.add(BatchNormalization())\n",
    "    CNNmodel.add(Conv2D(256, (3, 3), activation='relu',padding='same'))\n",
    "    CNNmodel.add(BatchNormalization())\n",
    "    CNNmodel.add(Conv2D(512, (3, 3), activation='relu',padding='same'))\n",
    "    CNNmodel.add(BatchNormalization())\n",
    "    CNNmodel.add(MaxPooling2D((2, 2)))\n",
    "    CNNmodel.add(Dropout(0.15))\n",
    "    CNNmodel.add(Flatten())\n",
    "    CNNmodel.add(Dense(512, activation='relu'))\n",
    "    CNNmodel.add(Dense(25, activation='softmax'))\n",
    "    optimum= Adam(learning_rate=0.0001)\n",
    "\n",
    "    # Compilar el modelo CNN con los parámetros definidos\n",
    "    CNNmodel.compile(loss='categorical_crossentropy', optimizer=optimum, metrics=['accuracy',tf.keras.metrics.AUC(curve=\"ROC\"),tf.keras.metrics.FalsePositives(),tf.keras.metrics.TruePositives(),tf.keras.metrics.FalseNegatives(),tf.keras.metrics.TrueNegatives(),tf.keras.metrics.SensitivityAtSpecificity(0.5)])\n",
    "\n",
    "    return CNNmodel"
   ]
  },
  {
   "cell_type": "code",
   "execution_count": 8,
   "metadata": {},
   "outputs": [],
   "source": [
    "# Utilizamos el KerasClassifier otra vez\n",
    "model_stolen = KerasClassifier(\n",
    "    model=create_blank_model(), \n",
    "    clip_values=(0, 255)\n",
    "    )"
   ]
  },
  {
   "cell_type": "code",
   "execution_count": 12,
   "metadata": {},
   "outputs": [
    {
     "ename": "AttributeError",
     "evalue": "'DirectoryIterator' object has no attribute 'shape'",
     "output_type": "error",
     "traceback": [
      "\u001b[1;31m---------------------------------------------------------------------------\u001b[0m",
      "\u001b[1;31mAttributeError\u001b[0m                            Traceback (most recent call last)",
      "Cell \u001b[1;32mIn[12], line 3\u001b[0m\n\u001b[0;32m      1\u001b[0m \u001b[39m# Extracting a thieved classifier\u001b[39;00m\n\u001b[0;32m      2\u001b[0m \u001b[39m# by training the reference model\u001b[39;00m\n\u001b[1;32m----> 3\u001b[0m stolen_classifier \u001b[39m=\u001b[39m copycat_cnn\u001b[39m.\u001b[39;49mextract(\n\u001b[0;32m      4\u001b[0m     x\u001b[39m=\u001b[39;49mtrain_generator, \n\u001b[0;32m      5\u001b[0m     \u001b[39m#y=train_labels_stolen, \u001b[39;49;00m\n\u001b[0;32m      6\u001b[0m     thieved_classifier\u001b[39m=\u001b[39;49mmodel_stolen\n\u001b[0;32m      7\u001b[0m     )\n",
      "File \u001b[1;32mc:\\Users\\xavih\\AppData\\Local\\Programs\\Python\\Python310\\lib\\site-packages\\art\\attacks\\extraction\\copycat_cnn.py:101\u001b[0m, in \u001b[0;36mCopycatCNN.extract\u001b[1;34m(self, x, y, **kwargs)\u001b[0m\n\u001b[0;32m     98\u001b[0m     logger\u001b[39m.\u001b[39mwarning(\u001b[39m\"\u001b[39m\u001b[39mThis attack does not use the provided label y.\u001b[39m\u001b[39m\"\u001b[39m)\n\u001b[0;32m    100\u001b[0m \u001b[39m# Check the size of the source input vs nb_stolen\u001b[39;00m\n\u001b[1;32m--> 101\u001b[0m \u001b[39mif\u001b[39;00m x\u001b[39m.\u001b[39;49mshape[\u001b[39m0\u001b[39m] \u001b[39m<\u001b[39m \u001b[39mself\u001b[39m\u001b[39m.\u001b[39mnb_stolen:  \u001b[39m# pragma: no cover\u001b[39;00m\n\u001b[0;32m    102\u001b[0m     logger\u001b[39m.\u001b[39mwarning(\n\u001b[0;32m    103\u001b[0m         \u001b[39m\"\u001b[39m\u001b[39mThe size of the source input is smaller than the expected number of queries submitted \u001b[39m\u001b[39m\"\u001b[39m\n\u001b[0;32m    104\u001b[0m         \u001b[39m\"\u001b[39m\u001b[39mto the victim classifier.\u001b[39m\u001b[39m\"\u001b[39m\n\u001b[0;32m    105\u001b[0m     )\n\u001b[0;32m    107\u001b[0m \u001b[39m# Check if there is a thieved classifier provided for training\u001b[39;00m\n",
      "\u001b[1;31mAttributeError\u001b[0m: 'DirectoryIterator' object has no attribute 'shape'"
     ]
    }
   ],
   "source": [
    "# Extracting a thieved classifier\n",
    "# by training the reference model\n",
    "stolen_classifier = copycat_cnn.extract(\n",
    "    x=train_generator, \n",
    "    #y=train_labels_stolen, \n",
    "    thieved_classifier=model_stolen\n",
    "    )"
   ]
  }
 ],
 "metadata": {
  "kernelspec": {
   "display_name": "Python 3",
   "language": "python",
   "name": "python3"
  },
  "language_info": {
   "codemirror_mode": {
    "name": "ipython",
    "version": 3
   },
   "file_extension": ".py",
   "mimetype": "text/x-python",
   "name": "python",
   "nbconvert_exporter": "python",
   "pygments_lexer": "ipython3",
   "version": "3.10.4"
  },
  "orig_nbformat": 4
 },
 "nbformat": 4,
 "nbformat_minor": 2
}
